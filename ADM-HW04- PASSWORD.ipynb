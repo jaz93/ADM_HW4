{
 "cells": [
  {
   "cell_type": "markdown",
   "metadata": {},
   "source": [
    "ADM - HW 4 - PASSWORD"
   ]
  },
  {
   "cell_type": "markdown",
   "metadata": {},
   "source": [
    "USING PYSPARK"
   ]
  },
  {
   "cell_type": "code",
   "execution_count": 7,
   "metadata": {},
   "outputs": [],
   "source": [
    "import pyspark as sc\n",
    "\n"
   ]
  },
  {
   "cell_type": "code",
   "execution_count": null,
   "metadata": {},
   "outputs": [],
   "source": [
    "p = sc.textFile('passwords2.txt')"
   ]
  },
  {
   "cell_type": "code",
   "execution_count": 70,
   "metadata": {},
   "outputs": [],
   "source": [
    "def hashingseq(string):\n",
    "    \n",
    "    u = 0\n",
    "    v = 0\n",
    "    for char in string:\n",
    "        v += 1\n",
    "        u += ord(character) ** v\n",
    "    return ((u, 1))"
   ]
  },
  {
   "cell_type": "code",
   "execution_count": 58,
   "metadata": {},
   "outputs": [],
   "source": [
    "def dup(tup):\n",
    "    return(('somma_duplicati', tup[1]))"
   ]
  },
  {
   "cell_type": "code",
   "execution_count": 77,
   "metadata": {},
   "outputs": [],
   "source": [
    "def countDup(p):\n",
    "    ''' in this step we are counting the number of duplicates '''\n",
    "    ntuples = p.map(hash)\n",
    "    reduced = ntuples.reduceByKey(lambda a, b: a + b)\n",
    "    duplicates = reduced.filter(lambda x: x[1] > 1)\n",
    "    duplicati = duplicates.map(dup)\n",
    "    final = duplicati.reduceByKey(lambda a, b: a + b)\n",
    "    return (final.take(1))"
   ]
  },
  {
   "cell_type": "code",
   "execution_count": 76,
   "metadata": {},
   "outputs": [
    {
     "name": "stdout",
     "output_type": "stream",
     "text": [
      "[('somma_duplicati', 20000000)]\n"
     ]
    }
   ],
   "source": [
    "print(countDup(sc.textFile('passwords2.txt')))"
   ]
  },
  {
   "cell_type": "markdown",
   "metadata": {},
   "source": [
    "the above figure indicates the number of passwords for which exist another password made of same characters."
   ]
  },
  {
   "cell_type": "code",
   "execution_count": 37,
   "metadata": {},
   "outputs": [],
   "source": [
    "def countDupOrd(p):\n",
    "    ntuples = p.map(hashiseq)\n",
    "    reduced = ntuples.reduceByKey(lambda a, b: a + b)\n",
    "    duplicates = reduced.filter(lambda x: x[1] > 1)\n",
    "    duplicati = duplicates.map(dup)\n",
    "    final = duplicati.reduceByKey(lambda a, b: a + b)\n",
    "    return (final.take(1))"
   ]
  },
  {
   "cell_type": "code",
   "execution_count": 72,
   "metadata": {},
   "outputs": [
    {
     "name": "stdout",
     "output_type": "stream",
     "text": [
      "[('somma_duplicati', 10000000)]\n"
     ]
    }
   ],
   "source": [
    "print(countDupOrd(sc.textFile('passwords2.txt')))"
   ]
  },
  {
   "cell_type": "markdown",
   "metadata": {},
   "source": [
    "This is how we found 10M duplicates. "
   ]
  }
 ],
 "metadata": {
  "kernelspec": {
   "display_name": "Python 3",
   "language": "python",
   "name": "python3"
  },
  "language_info": {
   "codemirror_mode": {
    "name": "ipython",
    "version": 3
   },
   "file_extension": ".py",
   "mimetype": "text/x-python",
   "name": "python",
   "nbconvert_exporter": "python",
   "pygments_lexer": "ipython3",
   "version": "3.7.0"
  }
 },
 "nbformat": 4,
 "nbformat_minor": 2
}
