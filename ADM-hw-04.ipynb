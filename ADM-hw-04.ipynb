{
 "cells": [
  {
   "cell_type": "code",
   "execution_count": 44,
   "metadata": {},
   "outputs": [],
   "source": [
    "HOME WORK -4- TASK 2"
   ]
  },
  {
   "cell_type": "code",
   "execution_count": 76,
   "metadata": {},
   "outputs": [],
   "source": [
    "import numpy as np\n",
    "import dask.bag as df\n",
    "import os\n",
    "from dask.bag import read_text\n",
    "import random"
   ]
  },
  {
   "cell_type": "code",
   "execution_count": 77,
   "metadata": {},
   "outputs": [],
   "source": [
    "list_ = {}\n",
    "cnt_data = 0 \n",
    "cnt_d_  = 0\n",
    "flasePositive = 0\n",
    "checkInorderOfChar = 0\n",
    "def hash_function(name,ord_=False):\n",
    "    global cnt_data,cnt_d_,flasePositive,checkInorderOfChar\n",
    "    nameValue =  list_.get(hash(name))\n",
    "    if nameValue == None:\n",
    "        list_[hash(name)] = name\n",
    "        cnt_data+=1\n",
    "    else: \n",
    "        if ord_ == False:\n",
    "            if nameValue != name:\n",
    "                flasePositive+=1\n",
    "            else:\n",
    "                cnt_d_ +=1\n",
    "        else:\n",
    "            nameValue = set(nameValue)\n",
    "            myNewName = set(name)\n",
    "            \n",
    "            if nameValue == myNewName:\n",
    "                checkInorderOfChar +=1\n",
    "            else:\n",
    "                cnt_d_ +=1\n",
    "                \n",
    "                \n",
    "                "
   ]
  },
  {
   "cell_type": "code",
   "execution_count": 78,
   "metadata": {},
   "outputs": [],
   "source": [
    "data = read_text(\"passwords2.txt\")\n"
   ]
  },
  {
   "cell_type": "code",
   "execution_count": 79,
   "metadata": {},
   "outputs": [],
   "source": [
    "data_new = data.take(1000000)\n",
    "for d in data_new:\n",
    "    #checking for the dublicate for example 'AABBA' = 'AABBA'\n",
    "    hash_function(d,ord_=False)\n",
    " \n",
    "    \n",
    "    \n",
    "    \n",
    "    "
   ]
  },
  {
   "cell_type": "code",
   "execution_count": 80,
   "metadata": {},
   "outputs": [
    {
     "name": "stdout",
     "output_type": "stream",
     "text": [
      "False Positive : 0\n",
      "Dublicate : 0\n",
      "We ran only 1000000 data because system configuration is not to the level to run the entire data \n",
      "Take into consideration only this case -> 'AABBA' = 'AABBA'\n"
     ]
    }
   ],
   "source": [
    "print(\"False Positive :\",flasePositive)\n",
    "print(\"Dublicate :\",cnt_d_)\n",
    "\n",
    "print(\"We ran only 1000000 data because system configuration is not to the level to run the entire data \")\n",
    "print(\"Take into consideration only this case -> 'AABBA' = 'AABBA'\")"
   ]
  },
  {
   "cell_type": "code",
   "execution_count": 81,
   "metadata": {},
   "outputs": [],
   "source": [
    "for d in data_new:\n",
    "    #checking for the dublicate by keeping in mind the position for example 'AAABBB' ='BBBAAA'\n",
    "    hash_function(d,ord_=True)"
   ]
  },
  {
   "cell_type": "code",
   "execution_count": 82,
   "metadata": {},
   "outputs": [
    {
     "name": "stdout",
     "output_type": "stream",
     "text": [
      "False Positive : 0\n",
      "Dublicate : 0\n",
      "We ran only 1000000 data because system configuration is not to the level to run the entire data \n",
      "It take into consideration 'AAABBB' ='BBBAAA' this case as well \n"
     ]
    }
   ],
   "source": [
    "print(\"False Positive :\",flasePositive)\n",
    "print(\"Dublicate :\",cnt_d_)\n",
    "\n",
    "print(\"We ran only 1000000 data because system configuration is not to the level to run the entire data \")\n",
    "print(\"It take into consideration 'AAABBB' ='BBBAAA' this case as well \")"
   ]
  }
 ],
 "metadata": {
  "kernelspec": {
   "display_name": "Python 3",
   "language": "python",
   "name": "python3"
  },
  "language_info": {
   "codemirror_mode": {
    "name": "ipython",
    "version": 3
   },
   "file_extension": ".py",
   "mimetype": "text/x-python",
   "name": "python",
   "nbconvert_exporter": "python",
   "pygments_lexer": "ipython3",
   "version": "3.6.5"
  }
 },
 "nbformat": 4,
 "nbformat_minor": 2
}
