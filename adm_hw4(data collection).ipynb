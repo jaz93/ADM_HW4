{
 "cells": [
  {
   "cell_type": "code",
   "execution_count": 6,
   "metadata": {},
   "outputs": [],
   "source": [
    "import pandas as pd\n",
    "from bs4 import BeautifulSoup as bs\n",
    "import requests\n",
    "import numpy as np\n",
    "import pandas as pd\n",
    "import time"
   ]
  },
  {
   "cell_type": "code",
   "execution_count": 16,
   "metadata": {},
   "outputs": [],
   "source": [
    "url = \"https://www.immobiliare.it/vendita-case/roma/?criterio=rilevanza&pag=\"\n",
    "df=pd.DataFrame(columns=['price','locali','superficie','bagni','piano'])"
   ]
  },
  {
   "cell_type": "code",
   "execution_count": 23,
   "metadata": {},
   "outputs": [],
   "source": [
    "pg=1\n",
    "i=1\n",
    "while i <= 10000:\n",
    "\n",
    "    time.sleep(1)\n",
    "    response = requests.get(url+str(pg))\n",
    "    html_soup = bs(response.text, 'html.parser')\n",
    "    item_containers = html_soup.find_all('div', class_ = 'listing-item_body--content')\n",
    "    for item in item_containers:\n",
    "        listing = []\n",
    "        listing.append(item.a['href'])\n",
    "            \n",
    "        for feature in item.ul.find_all('li', class_ = 'lif__item'):\n",
    "            try:\n",
    "                if 'lif__pricing' in feature['class']:\n",
    "                    listing.append(feature.text.strip().split(' ')[1])\n",
    "                    next\n",
    "                else:\n",
    "                    if feature.find('div', class_='lif__text').text == 'locali':\n",
    "                        listing.append(feature.span.text)\n",
    "                    if feature.find('div', class_='lif__text').text == 'superficie':\n",
    "                        listing.append(feature.span.text)\n",
    "                    if feature.find('div', class_='lif__text').text == 'bagni':\n",
    "                        listing.append(feature.span.text)\n",
    "                    if feature.find('div', class_='lif__text').text == 'piano':\n",
    "                        listing.append(feature.abbr.text.strip())\n",
    "            except:\n",
    "                next\n",
    "        if len(listing) == 6:\n",
    "            df=df.append(pd.Series(listing, index=['url','price','locali','superficie','bagni','piano']),ignore_index=True)\n",
    "            i +=1\n",
    "    pg+=1\n"
   ]
  },
  {
   "cell_type": "code",
   "execution_count": 28,
   "metadata": {},
   "outputs": [],
   "source": [
    "json=df.to_json('announcements.json',orient='index')"
   ]
  },
  {
   "cell_type": "code",
   "execution_count": 32,
   "metadata": {},
   "outputs": [],
   "source": [
    "test=pd.read_json('announcements.json',orient='index')"
   ]
  }
 ],
 "metadata": {
  "kernelspec": {
   "display_name": "Python 3",
   "language": "python",
   "name": "python3"
  },
  "language_info": {
   "codemirror_mode": {
    "name": "ipython",
    "version": 3
   },
   "file_extension": ".py",
   "mimetype": "text/x-python",
   "name": "python",
   "nbconvert_exporter": "python",
   "pygments_lexer": "ipython3",
   "version": "3.6.7"
  }
 },
 "nbformat": 4,
 "nbformat_minor": 2
}
