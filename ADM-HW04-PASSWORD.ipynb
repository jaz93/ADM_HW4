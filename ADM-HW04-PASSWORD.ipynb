{
 "cells": [
  {
   "cell_type": "markdown",
   "metadata": {},
   "source": [
    "password Duplicate"
   ]
  },
  {
   "cell_type": "markdown",
   "metadata": {},
   "source": [
    "using spark"
   ]
  },
  {
   "cell_type": "code",
   "execution_count": null,
   "metadata": {},
   "outputs": [],
   "source": [
    "sc"
   ]
  },
  {
   "cell_type": "code",
   "execution_count": 20,
   "metadata": {},
   "outputs": [],
   "source": [
    "p = sc.textFile('passwords2.txt')"
   ]
  },
  {
   "cell_type": "code",
   "execution_count": 74,
   "metadata": {},
   "outputs": [],
   "source": [
    "def hash(string):   \n",
    "    \n",
    "    l = []\n",
    "    for char in string:\n",
    "        l.append(ord(char))\n",
    "        \n",
    "    l = sorted(l)\n",
    "    u = 0\n",
    "    v = 0\n",
    "    for n in l:\n",
    "        v += 1\n",
    "        u += n ** v\n",
    "    return (u, 1)\n",
    "\n",
    "''' here we performed hashing  step 1'''"
   ]
  },
  {
   "cell_type": "code",
   "execution_count": 70,
   "metadata": {},
   "outputs": [],
   "source": [
    "def hashOrd(string):\n",
    "    \n",
    "    u = 0\n",
    "    v = 0\n",
    "    for char in string:\n",
    "        v += 1\n",
    "        u += ord(char) ** v\n",
    "    return ((u, 1))\n",
    "\n",
    "''' here we performed hashing  step 2'''"
   ]
  },
  {
   "cell_type": "code",
   "execution_count": 58,
   "metadata": {},
   "outputs": [],
   "source": [
    "def duplicate(tup):\n",
    "    return(('somma_duplicati', tup[1]))"
   ]
  },
  {
   "cell_type": "code",
   "execution_count": 77,
   "metadata": {},
   "outputs": [],
   "source": [
    "def countDuplicate(p):\n",
    "    \n",
    "    ntuples = p.map(hash)\n",
    "    reduced = ntuples.reduceByKey(lambda a, b: a + b)\n",
    "    duplicates = reduced.filter(lambda x: x[1] > 1)\n",
    "    duplicati = duplicates.map(duplicate)\n",
    "    final = duplicati.reduceByKey(lambda a, b: a + b)\n",
    "    return (final.take(1))\n",
    "\n",
    "'''here we computed to search the number of duplicates'''"
   ]
  },
  {
   "cell_type": "code",
   "execution_count": 76,
   "metadata": {},
   "outputs": [
    {
     "name": "stdout",
     "output_type": "stream",
     "text": [
      "[('somma_duplicati', 20000000)]\n"
     ]
    }
   ],
   "source": [
    "print(countDuplicate(sc.textFile('passwords2.txt')))"
   ]
  },
  {
   "cell_type": "markdown",
   "metadata": {},
   "source": [
    "the above figure indicates the number of passwords has other passwords which consists of same characters."
   ]
  },
  {
   "cell_type": "code",
   "execution_count": 37,
   "metadata": {},
   "outputs": [],
   "source": [
    "def countDuplicateOrd(p):\n",
    "    ntuples = p.map(hashOrd)\n",
    "    reduced = ntuples.reduceByKey(lambda a, b: a + b)\n",
    "    duplicates = reduced.filter(lambda x: x[1] > 1)\n",
    "    duplicati = duplicates.map(duplicate)\n",
    "    final = duplicati.reduceByKey(lambda a, b: a + b)\n",
    "    return (final.take(1))"
   ]
  },
  {
   "cell_type": "code",
   "execution_count": 72,
   "metadata": {},
   "outputs": [
    {
     "name": "stdout",
     "output_type": "stream",
     "text": [
      "[('somma_duplicati', 10000000)]\n"
     ]
    }
   ],
   "source": [
    "print(countDuplicateOrd(sc.textFile('passwords2.txt')))"
   ]
  },
  {
   "cell_type": "markdown",
   "metadata": {},
   "source": [
    "here are 10M dupilcates"
   ]
  }
 ],
 "metadata": {
  "kernelspec": {
   "display_name": "Python 3",
   "language": "python",
   "name": "python3"
  },
  "language_info": {
   "codemirror_mode": {
    "name": "ipython",
    "version": 3
   },
   "file_extension": ".py",
   "mimetype": "text/x-python",
   "name": "python",
   "nbconvert_exporter": "python",
   "pygments_lexer": "ipython3",
   "version": "3.6.5"
  }
 },
 "nbformat": 4,
 "nbformat_minor": 2
}
